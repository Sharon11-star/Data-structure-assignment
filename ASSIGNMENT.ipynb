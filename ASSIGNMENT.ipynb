{
 "cells": [
  {
   "cell_type": "code",
   "execution_count": 1,
   "id": "493797b5-38ae-4d34-a5eb-ea8281befb0e",
   "metadata": {},
   "outputs": [
    {
     "data": {
      "text/plain": [
       "'My name is Sharon'"
      ]
     },
     "execution_count": 1,
     "metadata": {},
     "output_type": "execute_result"
    }
   ],
   "source": [
    "#1.STRING SLICING\n",
    "##It means to access the subpart of the string\n",
    "##Here the spaces in between the characters will also have particular index numbers\n",
    "##For example\n",
    "string1 = \"My name is Sharon\"\n",
    "string1"
   ]
  },
  {
   "cell_type": "code",
   "execution_count": 2,
   "id": "b288795c-a2e0-4722-b0e1-668c35565e3d",
   "metadata": {},
   "outputs": [
    {
     "data": {
      "text/plain": [
       "' '"
      ]
     },
     "execution_count": 2,
     "metadata": {},
     "output_type": "execute_result"
    }
   ],
   "source": [
    "string1[2]"
   ]
  },
  {
   "cell_type": "code",
   "execution_count": 3,
   "id": "d546384f-6b51-4cab-a629-d95daa585c83",
   "metadata": {},
   "outputs": [
    {
     "data": {
      "text/plain": [
       "'My na'"
      ]
     },
     "execution_count": 3,
     "metadata": {},
     "output_type": "execute_result"
    }
   ],
   "source": [
    "string1[0:5]"
   ]
  },
  {
   "cell_type": "code",
   "execution_count": 4,
   "id": "b2098c2a-d22d-4938-a705-71d625ba06da",
   "metadata": {},
   "outputs": [
    {
     "data": {
      "text/plain": [
       "'My name'"
      ]
     },
     "execution_count": 4,
     "metadata": {},
     "output_type": "execute_result"
    }
   ],
   "source": [
    "string1[:7]"
   ]
  },
  {
   "cell_type": "code",
   "execution_count": 7,
   "id": "264e70c3-4448-4b87-9268-221ef8fec0a2",
   "metadata": {},
   "outputs": [
    {
     "data": {
      "text/plain": [
       "'My name is Sh'"
      ]
     },
     "execution_count": 7,
     "metadata": {},
     "output_type": "execute_result"
    }
   ],
   "source": [
    "string1[:-4]"
   ]
  },
  {
   "cell_type": "code",
   "execution_count": 9,
   "id": "781cf7b7-40d2-4240-b612-672beb93ed5b",
   "metadata": {},
   "outputs": [
    {
     "data": {
      "text/plain": [
       "'ron'"
      ]
     },
     "execution_count": 9,
     "metadata": {},
     "output_type": "execute_result"
    }
   ],
   "source": [
    "string1[-3:]"
   ]
  },
  {
   "cell_type": "code",
   "execution_count": 10,
   "id": "fb3f48e6-1d2d-4455-9370-7accd9dfb15c",
   "metadata": {},
   "outputs": [
    {
     "data": {
      "text/plain": [
       "['sharon', 'aman', 'sofia', 'manisha']"
      ]
     },
     "execution_count": 10,
     "metadata": {},
     "output_type": "execute_result"
    }
   ],
   "source": [
    "#2.KEY FEATURES OF LIST\n",
    "##1. List are ordered collection of items.\n",
    "##2. It is heterogeneous. This means that it can store any data\n",
    "##3. Lists are mutable objects\n",
    "##for example\n",
    "list = [\"sharon\" , \"aman\" , \"sofia\" , \"manisha\"]\n",
    "list"
   ]
  },
  {
   "cell_type": "code",
   "execution_count": 12,
   "id": "0e2f5126-41e8-4684-a69a-921a9795c45e",
   "metadata": {},
   "outputs": [
    {
     "data": {
      "text/plain": [
       "'manisha'"
      ]
     },
     "execution_count": 12,
     "metadata": {},
     "output_type": "execute_result"
    }
   ],
   "source": [
    "list[3]"
   ]
  },
  {
   "cell_type": "code",
   "execution_count": 13,
   "id": "06220d2e-9a7f-4282-905c-36015882f637",
   "metadata": {},
   "outputs": [],
   "source": [
    "list[3] = \"aditya\""
   ]
  },
  {
   "cell_type": "code",
   "execution_count": 14,
   "id": "312d5c66-677b-4570-819f-f007843c7bdb",
   "metadata": {},
   "outputs": [
    {
     "data": {
      "text/plain": [
       "['sharon', 'aman', 'sofia', 'aditya']"
      ]
     },
     "execution_count": 14,
     "metadata": {},
     "output_type": "execute_result"
    }
   ],
   "source": [
    "list"
   ]
  },
  {
   "cell_type": "code",
   "execution_count": 16,
   "id": "72c0c354-e8c3-4853-86c9-87dc407a3fa8",
   "metadata": {},
   "outputs": [
    {
     "data": {
      "text/plain": [
       "['sharon', 'aman', 'sofia']"
      ]
     },
     "execution_count": 16,
     "metadata": {},
     "output_type": "execute_result"
    }
   ],
   "source": [
    "##4. Slicing of a list\n",
    "list[0:3]"
   ]
  },
  {
   "cell_type": "code",
   "execution_count": 18,
   "id": "171e1d73-5351-4852-ac21-8d1f350f2cae",
   "metadata": {},
   "outputs": [
    {
     "data": {
      "text/plain": [
       "['sharon', 'aman']"
      ]
     },
     "execution_count": 18,
     "metadata": {},
     "output_type": "execute_result"
    }
   ],
   "source": [
    "list[:-2]"
   ]
  },
  {
   "cell_type": "code",
   "execution_count": 19,
   "id": "aa6cf5cf-4611-4251-9147-bad281c6244d",
   "metadata": {},
   "outputs": [
    {
     "data": {
      "text/plain": [
       "['sofia', 'aditya']"
      ]
     },
     "execution_count": 19,
     "metadata": {},
     "output_type": "execute_result"
    }
   ],
   "source": [
    "list[-2:]"
   ]
  },
  {
   "cell_type": "code",
   "execution_count": 20,
   "id": "bee4e194-d7fb-45c1-8b67-de6a77528d0f",
   "metadata": {},
   "outputs": [
    {
     "data": {
      "text/plain": [
       "['mango', 'apple', 'orange', 'banana', 1, 2, 3.5]"
      ]
     },
     "execution_count": 20,
     "metadata": {},
     "output_type": "execute_result"
    }
   ],
   "source": [
    "#3.ACCESSING ELEMENTS IN A LIST\n",
    "list1 = [\"mango\", \"apple\" , \"orange\" , \"banana\" , 1 , 2 , 3.5]\n",
    "list1\n"
   ]
  },
  {
   "cell_type": "code",
   "execution_count": 21,
   "id": "7378a30d-6b55-41f2-84bc-f73b689ef4eb",
   "metadata": {},
   "outputs": [
    {
     "data": {
      "text/plain": [
       "'banana'"
      ]
     },
     "execution_count": 21,
     "metadata": {},
     "output_type": "execute_result"
    }
   ],
   "source": [
    "list1[3]"
   ]
  },
  {
   "cell_type": "code",
   "execution_count": 22,
   "id": "9fbaf6e6-2d0f-4464-b7c1-ea1dfe874c33",
   "metadata": {},
   "outputs": [
    {
     "data": {
      "text/plain": [
       "1"
      ]
     },
     "execution_count": 22,
     "metadata": {},
     "output_type": "execute_result"
    }
   ],
   "source": [
    "list1[4]"
   ]
  },
  {
   "cell_type": "code",
   "execution_count": 24,
   "id": "6d4d4327-62c0-483c-95de-12239eefa383",
   "metadata": {},
   "outputs": [
    {
     "data": {
      "text/plain": [
       "1"
      ]
     },
     "execution_count": 24,
     "metadata": {},
     "output_type": "execute_result"
    }
   ],
   "source": [
    "list1[-3]"
   ]
  },
  {
   "cell_type": "code",
   "execution_count": 25,
   "id": "2d4fbbba-f021-4ba7-bf11-1910f1b31f15",
   "metadata": {},
   "outputs": [
    {
     "data": {
      "text/plain": [
       "['mango', 'apple', 'orange', 'banana', 1, 2, 3.5]"
      ]
     },
     "execution_count": 25,
     "metadata": {},
     "output_type": "execute_result"
    }
   ],
   "source": [
    "#MODIFYING A LIST\n",
    "##Adding a new element at the end\n",
    "list1\n"
   ]
  },
  {
   "cell_type": "code",
   "execution_count": 26,
   "id": "552c9733-0a55-48c9-887d-a749a05abf7f",
   "metadata": {},
   "outputs": [
    {
     "data": {
      "text/plain": [
       "['mango', 'apple', 'orange', 'banana', 1, 2, 3.5, 'sharon']"
      ]
     },
     "execution_count": 26,
     "metadata": {},
     "output_type": "execute_result"
    }
   ],
   "source": [
    "list1.append(\"sharon\")\n",
    "list1"
   ]
  },
  {
   "cell_type": "code",
   "execution_count": 47,
   "id": "3fdd46d0-66d6-4d55-ba2d-104482cdda11",
   "metadata": {},
   "outputs": [
    {
     "data": {
      "text/plain": [
       "['sharon', 'sofia', 'aman']"
      ]
     },
     "execution_count": 47,
     "metadata": {},
     "output_type": "execute_result"
    }
   ],
   "source": [
    "##Adding element at a definite index number\n",
    "fam = [\"sharon\" , \"sofia\" , \"aman\"]\n",
    "fam"
   ]
  },
  {
   "cell_type": "code",
   "execution_count": 48,
   "id": "741e28a0-3b7c-4af0-9062-4b688303a15a",
   "metadata": {},
   "outputs": [
    {
     "data": {
      "text/plain": [
       "['sharon', 'sofia', 'shronit', 'aman']"
      ]
     },
     "execution_count": 48,
     "metadata": {},
     "output_type": "execute_result"
    }
   ],
   "source": [
    "fam.insert(2,\"shronit\")\n",
    "fam"
   ]
  },
  {
   "cell_type": "code",
   "execution_count": 49,
   "id": "06dba8eb-5baf-46af-87ee-c05daf328429",
   "metadata": {},
   "outputs": [
    {
     "data": {
      "text/plain": [
       "['sharon', 'sofia', 'shronit', 'aman', 'manisha']"
      ]
     },
     "execution_count": 49,
     "metadata": {},
     "output_type": "execute_result"
    }
   ],
   "source": [
    "fam.insert(4,\"manisha\")\n",
    "fam"
   ]
  },
  {
   "cell_type": "code",
   "execution_count": 50,
   "id": "9723028d-dd99-49d9-ac61-5dcebcee11e5",
   "metadata": {},
   "outputs": [
    {
     "data": {
      "text/plain": [
       "['pencil', 'pen', 'eraser', 'scale']"
      ]
     },
     "execution_count": 50,
     "metadata": {},
     "output_type": "execute_result"
    }
   ],
   "source": [
    "#Adding element from another list\n",
    "stationary= [\"pencil\" , \"pen\" , \"eraser\" , \"scale\"]\n",
    "stationary"
   ]
  },
  {
   "cell_type": "code",
   "execution_count": 51,
   "id": "b9d322ea-5413-43ac-9b3d-38cd7252e3d1",
   "metadata": {},
   "outputs": [
    {
     "data": {
      "text/plain": [
       "['bag', 'bottle']"
      ]
     },
     "execution_count": 51,
     "metadata": {},
     "output_type": "execute_result"
    }
   ],
   "source": [
    "essentials = [\"bag\" , \"bottle\"]\n",
    "essentials"
   ]
  },
  {
   "cell_type": "code",
   "execution_count": 52,
   "id": "e8423f75-9964-4746-b6d5-c99e269aab7b",
   "metadata": {},
   "outputs": [
    {
     "data": {
      "text/plain": [
       "['pencil', 'pen', 'eraser', 'scale', 'bag', 'bottle']"
      ]
     },
     "execution_count": 52,
     "metadata": {},
     "output_type": "execute_result"
    }
   ],
   "source": [
    "stationary.extend(essentials)\n",
    "stationary"
   ]
  },
  {
   "cell_type": "code",
   "execution_count": 53,
   "id": "8588cf35-251a-48a1-bbcf-fcf87ed42495",
   "metadata": {},
   "outputs": [
    {
     "data": {
      "text/plain": [
       "['sharon', 'sofia', 'aman']"
      ]
     },
     "execution_count": 53,
     "metadata": {},
     "output_type": "execute_result"
    }
   ],
   "source": [
    "#Deleting the last elements\n",
    "fam = [\"sharon\" , \"sofia\" , \"aman\"]\n",
    "fam\n"
   ]
  },
  {
   "cell_type": "code",
   "execution_count": 55,
   "id": "53035b2d-c47a-4937-bca7-62daca3ef827",
   "metadata": {},
   "outputs": [
    {
     "data": {
      "text/plain": [
       "'aman'"
      ]
     },
     "execution_count": 55,
     "metadata": {},
     "output_type": "execute_result"
    }
   ],
   "source": [
    "fam.pop()"
   ]
  },
  {
   "cell_type": "code",
   "execution_count": 56,
   "id": "0bb7978d-f65c-403a-b88e-d0920cb2fb5d",
   "metadata": {},
   "outputs": [
    {
     "data": {
      "text/plain": [
       "['sharon', 'sofia']"
      ]
     },
     "execution_count": 56,
     "metadata": {},
     "output_type": "execute_result"
    }
   ],
   "source": [
    "fam"
   ]
  },
  {
   "cell_type": "code",
   "execution_count": 57,
   "id": "9d00741f-748f-41a1-8dab-623fb6fd2545",
   "metadata": {},
   "outputs": [
    {
     "data": {
      "text/plain": [
       "['sharon', 'sofia', 'aman']"
      ]
     },
     "execution_count": 57,
     "metadata": {},
     "output_type": "execute_result"
    }
   ],
   "source": [
    "#Removing the element using index numbers\n",
    "fam = [\"sharon\" , \"sofia\" , \"aman\"]\n",
    "fam"
   ]
  },
  {
   "cell_type": "code",
   "execution_count": 58,
   "id": "5f11d4a2-2520-4258-a9bc-a0a60c19ad47",
   "metadata": {},
   "outputs": [
    {
     "data": {
      "text/plain": [
       "'aman'"
      ]
     },
     "execution_count": 58,
     "metadata": {},
     "output_type": "execute_result"
    }
   ],
   "source": [
    "fam.pop(2)\n"
   ]
  },
  {
   "cell_type": "code",
   "execution_count": 59,
   "id": "94a5f814-14f3-435a-a457-0014ca4ed6c7",
   "metadata": {},
   "outputs": [
    {
     "data": {
      "text/plain": [
       "['sharon', 'sofia']"
      ]
     },
     "execution_count": 59,
     "metadata": {},
     "output_type": "execute_result"
    }
   ],
   "source": [
    "fam"
   ]
  },
  {
   "cell_type": "code",
   "execution_count": 60,
   "id": "0a0ff67f-d9e3-4ab7-a91b-e592de476515",
   "metadata": {},
   "outputs": [
    {
     "data": {
      "text/plain": [
       "('pencil', 'pen', 'eraser', 'scale')"
      ]
     },
     "execution_count": 60,
     "metadata": {},
     "output_type": "execute_result"
    }
   ],
   "source": [
    "#4. TUPLES AND LISTS\n",
    "##1.Tuples and lists are ordered collection of elements and they both can store heterogenous data. \n",
    "##This means they can store any type of data.\n",
    "##2. Tuples are denoted using simple brackets () whereas lists are denoted using square brackets [].\n",
    "##3. Tuples are immutable whereas lists are mutable. \n",
    "##This means in tuples you cannot modify the data but in lists you can modify and change the elements inside a list\n",
    "##For example TUPLES\n",
    "t = (\"pencil\" , \"pen\" , \"eraser\" , \"scale\")\n",
    "t\n"
   ]
  },
  {
   "cell_type": "code",
   "execution_count": 61,
   "id": "0797c234-9d57-4f71-bcf6-4b94d908a94d",
   "metadata": {},
   "outputs": [
    {
     "data": {
      "text/plain": [
       "'eraser'"
      ]
     },
     "execution_count": 61,
     "metadata": {},
     "output_type": "execute_result"
    }
   ],
   "source": [
    "t[2]"
   ]
  },
  {
   "cell_type": "code",
   "execution_count": 62,
   "id": "3ed0ebab-316f-4baf-9d28-fa3bb929d4a5",
   "metadata": {},
   "outputs": [
    {
     "ename": "TypeError",
     "evalue": "'tuple' object does not support item assignment",
     "output_type": "error",
     "traceback": [
      "\u001b[0;31m---------------------------------------------------------------------------\u001b[0m",
      "\u001b[0;31mTypeError\u001b[0m                                 Traceback (most recent call last)",
      "Cell \u001b[0;32mIn[62], line 1\u001b[0m\n\u001b[0;32m----> 1\u001b[0m \u001b[43mt\u001b[49m\u001b[43m[\u001b[49m\u001b[38;5;241;43m2\u001b[39;49m\u001b[43m]\u001b[49m \u001b[38;5;241m=\u001b[39m \u001b[38;5;124m\"\u001b[39m\u001b[38;5;124mbag\u001b[39m\u001b[38;5;124m\"\u001b[39m\n\u001b[1;32m      2\u001b[0m t\n",
      "\u001b[0;31mTypeError\u001b[0m: 'tuple' object does not support item assignment"
     ]
    }
   ],
   "source": [
    "##here the data cannot be modified because tuple does not support item assignmenet as it is a immutable object\n",
    "t[2] = \"bag\"\n",
    "t"
   ]
  },
  {
   "cell_type": "code",
   "execution_count": 63,
   "id": "7a00e108-69f0-47f3-87b7-8e741115850e",
   "metadata": {},
   "outputs": [
    {
     "data": {
      "text/plain": [
       "['sharon', 'aman', 'sofia', 'manisha']"
      ]
     },
     "execution_count": 63,
     "metadata": {},
     "output_type": "execute_result"
    }
   ],
   "source": [
    "##For example in LISTS\n",
    "list = [\"sharon\" , \"aman\" , \"sofia\" , \"manisha\"]\n",
    "list"
   ]
  },
  {
   "cell_type": "code",
   "execution_count": 64,
   "id": "f2ed4bd7-839b-42ec-902f-8628358beaf1",
   "metadata": {},
   "outputs": [
    {
     "data": {
      "text/plain": [
       "'manisha'"
      ]
     },
     "execution_count": 64,
     "metadata": {},
     "output_type": "execute_result"
    }
   ],
   "source": [
    "list[3]"
   ]
  },
  {
   "cell_type": "code",
   "execution_count": 65,
   "id": "0dee83a4-999f-4b42-a4a8-58d9f8f5c5f1",
   "metadata": {},
   "outputs": [
    {
     "data": {
      "text/plain": [
       "['sharon', 'aman', 'sofia', 'aditya']"
      ]
     },
     "execution_count": 65,
     "metadata": {},
     "output_type": "execute_result"
    }
   ],
   "source": [
    "##here a list can be modified because lists are mutable objects and support item assignment\n",
    "list[3] = \"aditya\"\n",
    "list"
   ]
  },
  {
   "cell_type": "code",
   "execution_count": 66,
   "id": "32dd2492-5a1a-4208-874b-6c6fe5cee873",
   "metadata": {},
   "outputs": [
    {
     "data": {
      "text/plain": [
       "{1, 2, 3, 'aman', 'sharon'}"
      ]
     },
     "execution_count": 66,
     "metadata": {},
     "output_type": "execute_result"
    }
   ],
   "source": [
    "#5. KEY FEATURES OF SETS\n",
    "##1. Sets are unordered and unique collection of elements\n",
    "##2. Since sets are unordered , indexing will not work\n",
    "##this means that you cannot access the elements using the index numbers.\n",
    "##3. Unique elements means that it does not allow duplicate elements .\n",
    "##4. Curly brackets{} are used to denote a set\n",
    "##For example\n",
    "##here insipte of repeated elements , it does not allow the duplicate elements after the execution of the code\n",
    "##this means it is a collection of unique elements\n",
    "s = {1 , 2, 2 ,3 , 3 , 3 , 3, \"sharon\" , \"sharon\" , \"aman\"}\n",
    "s"
   ]
  },
  {
   "cell_type": "code",
   "execution_count": 67,
   "id": "d657dcac-feb7-4985-9857-12a4102c771c",
   "metadata": {},
   "outputs": [
    {
     "ename": "TypeError",
     "evalue": "'set' object is not subscriptable",
     "output_type": "error",
     "traceback": [
      "\u001b[0;31m---------------------------------------------------------------------------\u001b[0m",
      "\u001b[0;31mTypeError\u001b[0m                                 Traceback (most recent call last)",
      "Cell \u001b[0;32mIn[67], line 1\u001b[0m\n\u001b[0;32m----> 1\u001b[0m \u001b[43ms\u001b[49m\u001b[43m[\u001b[49m\u001b[38;5;241;43m3\u001b[39;49m\u001b[43m]\u001b[49m\n",
      "\u001b[0;31mTypeError\u001b[0m: 'set' object is not subscriptable"
     ]
    }
   ],
   "source": [
    "##here you cannot use the elements using the index numbers beacuse sets are unordered\n",
    "s[3]\n"
   ]
  },
  {
   "cell_type": "code",
   "execution_count": 68,
   "id": "63b3e51a-0740-4bb2-98bf-167a96c4faee",
   "metadata": {},
   "outputs": [
    {
     "ename": "TypeError",
     "evalue": "unhashable type: 'set'",
     "output_type": "error",
     "traceback": [
      "\u001b[0;31m---------------------------------------------------------------------------\u001b[0m",
      "\u001b[0;31mTypeError\u001b[0m                                 Traceback (most recent call last)",
      "Cell \u001b[0;32mIn[68], line 3\u001b[0m\n\u001b[1;32m      1\u001b[0m \u001b[38;5;66;03m##5. You cannot define set inside a set\u001b[39;00m\n\u001b[1;32m      2\u001b[0m \u001b[38;5;66;03m##for example\u001b[39;00m\n\u001b[0;32m----> 3\u001b[0m \u001b[38;5;28mset\u001b[39m \u001b[38;5;241m=\u001b[39m {\u001b[38;5;241m1\u001b[39m, \u001b[38;5;241m2\u001b[39m, \u001b[38;5;241m3\u001b[39m ,{\u001b[38;5;241m4\u001b[39m , \u001b[38;5;241m5\u001b[39m}}\n\u001b[1;32m      4\u001b[0m \u001b[38;5;28mset\u001b[39m\n",
      "\u001b[0;31mTypeError\u001b[0m: unhashable type: 'set'"
     ]
    }
   ],
   "source": [
    "##5. You cannot define set inside a set\n",
    "##for example\n",
    "set = {1, 2, 3 ,{4 , 5}}\n",
    "set"
   ]
  },
  {
   "cell_type": "code",
   "execution_count": 69,
   "id": "13ce8759-665b-466b-b784-abc0ff55c9bf",
   "metadata": {},
   "outputs": [
    {
     "data": {
      "text/plain": [
       "('school', 'bus', 'bag', 'bottle', 1, 3, 4.5)"
      ]
     },
     "execution_count": 69,
     "metadata": {},
     "output_type": "execute_result"
    }
   ],
   "source": [
    "#6. USE CASES OF TUPLES \n",
    "tuple = (\"school\" , \"bus\" , \"bag\" , \"bottle\" , 1 , 3 , 4.5)\n",
    "tuple"
   ]
  },
  {
   "cell_type": "code",
   "execution_count": 70,
   "id": "2af3c834-c3e1-45ca-83a2-00fb4b19a513",
   "metadata": {},
   "outputs": [
    {
     "data": {
      "text/plain": [
       "'bottle'"
      ]
     },
     "execution_count": 70,
     "metadata": {},
     "output_type": "execute_result"
    }
   ],
   "source": [
    "tuple[3]"
   ]
  },
  {
   "cell_type": "code",
   "execution_count": 72,
   "id": "db0febb7-5762-46d7-befc-adad7b6760ef",
   "metadata": {},
   "outputs": [
    {
     "data": {
      "text/plain": [
       "1"
      ]
     },
     "execution_count": 72,
     "metadata": {},
     "output_type": "execute_result"
    }
   ],
   "source": [
    "tuple.count(\"school\")"
   ]
  },
  {
   "cell_type": "code",
   "execution_count": 73,
   "id": "1a99a94f-77ae-44b5-aafe-04aaf86ac3fc",
   "metadata": {},
   "outputs": [
    {
     "data": {
      "text/plain": [
       "4"
      ]
     },
     "execution_count": 73,
     "metadata": {},
     "output_type": "execute_result"
    }
   ],
   "source": [
    "tuple.index(1)"
   ]
  },
  {
   "cell_type": "code",
   "execution_count": 74,
   "id": "45d9507b-1489-4237-8cec-6d8e43705d33",
   "metadata": {},
   "outputs": [
    {
     "name": "stdout",
     "output_type": "stream",
     "text": [
      "('school', 'bus', 'bag', 'bottle', 1, 3, 4.5, 'school', 'bus', 'bag', 'bottle', 1, 3, 4.5)\n"
     ]
    }
   ],
   "source": [
    "print(tuple*2)"
   ]
  },
  {
   "cell_type": "code",
   "execution_count": 75,
   "id": "59506104-ed4d-46d9-8242-260ab5513b3e",
   "metadata": {},
   "outputs": [
    {
     "name": "stdout",
     "output_type": "stream",
     "text": [
      "school\n",
      "bus\n",
      "bag\n",
      "bottle\n",
      "1\n",
      "3\n",
      "4.5\n"
     ]
    }
   ],
   "source": [
    "for i in tuple:\n",
    "    print(i)"
   ]
  },
  {
   "cell_type": "code",
   "execution_count": 76,
   "id": "4bcc061a-8814-45b6-861b-3a698955ce8d",
   "metadata": {},
   "outputs": [
    {
     "data": {
      "text/plain": [
       "{1, 2, 4, 55, 66, 'aman', 'orange', 'sharon'}"
      ]
     },
     "execution_count": 76,
     "metadata": {},
     "output_type": "execute_result"
    }
   ],
   "source": [
    "#USE CASES OF SETS\n",
    "s = {1 , 2 , 4 , 55,  66 ,\"sharon\" , \"aman\" , \"orange\"}\n",
    "s"
   ]
  },
  {
   "cell_type": "code",
   "execution_count": 78,
   "id": "4fa9da77-e3f5-4e09-98ac-f3f1f8191998",
   "metadata": {},
   "outputs": [
    {
     "data": {
      "text/plain": [
       "{1, 2, 4, 55, 66, 'aman', 'c', 'e', 'i', 'l', 'n', 'orange', 'p', 'sharon'}"
      ]
     },
     "execution_count": 78,
     "metadata": {},
     "output_type": "execute_result"
    }
   ],
   "source": [
    "s.update(\"pencil\")\n",
    "s"
   ]
  },
  {
   "cell_type": "code",
   "execution_count": 79,
   "id": "9258338b-a90c-4f37-870e-25fe7857e920",
   "metadata": {},
   "outputs": [
    {
     "data": {
      "text/plain": [
       "{1,\n",
       " 2,\n",
       " 4,\n",
       " 55,\n",
       " 66,\n",
       " 'aman',\n",
       " 'c',\n",
       " 'e',\n",
       " 'i',\n",
       " 'l',\n",
       " 'n',\n",
       " 'orange',\n",
       " 'p',\n",
       " 'pencil',\n",
       " 'sharon'}"
      ]
     },
     "execution_count": 79,
     "metadata": {},
     "output_type": "execute_result"
    }
   ],
   "source": [
    "#when adding a string , if you don't want the caharcteres toappear individually then write the string like this\n",
    "s.update([\"pencil\"])\n",
    "s"
   ]
  },
  {
   "cell_type": "code",
   "execution_count": 80,
   "id": "42b46472-4039-48a0-8e82-22d139d1aa4e",
   "metadata": {},
   "outputs": [
    {
     "data": {
      "text/plain": [
       "set()"
      ]
     },
     "execution_count": 80,
     "metadata": {},
     "output_type": "execute_result"
    }
   ],
   "source": [
    "#when you want to delete the set\n",
    "s.clear()\n",
    "s\n"
   ]
  },
  {
   "cell_type": "code",
   "execution_count": 81,
   "id": "89e54afd-41ba-405a-a6b8-5431cbdd520b",
   "metadata": {},
   "outputs": [],
   "source": [
    "del s"
   ]
  },
  {
   "cell_type": "code",
   "execution_count": 82,
   "id": "3b2f52ff-4e6a-490f-9f1d-e41bca997591",
   "metadata": {},
   "outputs": [
    {
     "ename": "NameError",
     "evalue": "name 's' is not defined",
     "output_type": "error",
     "traceback": [
      "\u001b[0;31m---------------------------------------------------------------------------\u001b[0m",
      "\u001b[0;31mNameError\u001b[0m                                 Traceback (most recent call last)",
      "Cell \u001b[0;32mIn[82], line 1\u001b[0m\n\u001b[0;32m----> 1\u001b[0m \u001b[43ms\u001b[49m\n",
      "\u001b[0;31mNameError\u001b[0m: name 's' is not defined"
     ]
    }
   ],
   "source": [
    "s"
   ]
  },
  {
   "cell_type": "code",
   "execution_count": 85,
   "id": "2140befd-6f8c-471b-a917-3f43404c78b4",
   "metadata": {},
   "outputs": [
    {
     "data": {
      "text/plain": [
       "{'bag', 'bottle', 'eraser', 'pen', 'pencil', 'scale'}"
      ]
     },
     "execution_count": 85,
     "metadata": {},
     "output_type": "execute_result"
    }
   ],
   "source": [
    "#set operation\n",
    "##1. UNION\n",
    "##here the elements of both the sets are combined together\n",
    "s1 = {\"pencil\" ,\"pen\" ,\"eraser\" , \"scale\"}\n",
    "s2 = {\"bag\" , \"scale\" ,\"bottle\"}\n",
    "s1|s2"
   ]
  },
  {
   "cell_type": "code",
   "execution_count": 86,
   "id": "195627a1-40ca-4339-8e00-5417dc64072e",
   "metadata": {},
   "outputs": [
    {
     "data": {
      "text/plain": [
       "{'scale'}"
      ]
     },
     "execution_count": 86,
     "metadata": {},
     "output_type": "execute_result"
    }
   ],
   "source": [
    "##2. INTERSECTION\n",
    "##here only the common elementt between the sets is given\n",
    "s1&s2"
   ]
  },
  {
   "cell_type": "code",
   "execution_count": 87,
   "id": "87b8ba4b-c1ef-4fea-a5d2-bd90a79f43b8",
   "metadata": {},
   "outputs": [
    {
     "data": {
      "text/plain": [
       "{'eraser', 'pen', 'pencil'}"
      ]
     },
     "execution_count": 87,
     "metadata": {},
     "output_type": "execute_result"
    }
   ],
   "source": [
    "##3. DIFFERENCE\n",
    "##here only the elements of the 1st set are given , even the commom elements are excluded\n",
    "s1-s2"
   ]
  },
  {
   "cell_type": "code",
   "execution_count": 88,
   "id": "2c6b3685-1dca-478f-90e4-aa1612d94383",
   "metadata": {},
   "outputs": [
    {
     "data": {
      "text/plain": [
       "{'bag', 'bottle', 'eraser', 'pen', 'pencil'}"
      ]
     },
     "execution_count": 88,
     "metadata": {},
     "output_type": "execute_result"
    }
   ],
   "source": [
    "##4.SYMMETRIC DIFFERENCE\n",
    "##here the uncommon elements from both the sets are given\n",
    "s1^s2"
   ]
  },
  {
   "cell_type": "code",
   "execution_count": 89,
   "id": "a5b7739a-6ab2-40d1-9255-e4415dc32a95",
   "metadata": {},
   "outputs": [
    {
     "data": {
      "text/plain": [
       "{'name': 'sharon', 'age': 21, 'phone': 45678, 'course': 'data analytics'}"
      ]
     },
     "execution_count": 89,
     "metadata": {},
     "output_type": "execute_result"
    }
   ],
   "source": [
    "#7. ADDING ITEMS IN A DICTIONARY\n",
    "d = {\"name\":\"sharon\" , \"age\":21 , \"phone\":45678 , \"course\":\"data analytics\"}\n",
    "d"
   ]
  },
  {
   "cell_type": "code",
   "execution_count": 91,
   "id": "a99cb558-51b1-4fb2-9429-8a526979f158",
   "metadata": {},
   "outputs": [
    {
     "data": {
      "text/plain": [
       "{'name': 'sharon',\n",
       " 'age': 21,\n",
       " 'phone': 45678,\n",
       " 'course': 'data analytics',\n",
       " 'addres': 'jhansi',\n",
       " 'address': 'jhansi'}"
      ]
     },
     "execution_count": 91,
     "metadata": {},
     "output_type": "execute_result"
    }
   ],
   "source": [
    "d[\"address\"] = \"jhansi\"\n",
    "d"
   ]
  },
  {
   "cell_type": "code",
   "execution_count": 92,
   "id": "4a31ed08-7bc2-4a3b-8ff6-76073878234a",
   "metadata": {},
   "outputs": [
    {
     "data": {
      "text/plain": [
       "{'name': 'sharon',\n",
       " 'age': 21,\n",
       " 'phone': 45678,\n",
       " 'course': 'data analytics',\n",
       " 'addres': 'jhansi',\n",
       " 'address': 'jhansi',\n",
       " 'class': 8}"
      ]
     },
     "execution_count": 92,
     "metadata": {},
     "output_type": "execute_result"
    }
   ],
   "source": [
    "d[\"class\"] = 8\n",
    "d"
   ]
  },
  {
   "cell_type": "code",
   "execution_count": 93,
   "id": "af885bf8-a2ef-4748-b07a-737a17db5cb1",
   "metadata": {},
   "outputs": [
    {
     "data": {
      "text/plain": [
       "{'name': 'sharon', 'age': 21, 'phone': 45678, 'course': 'data analytics'}"
      ]
     },
     "execution_count": 93,
     "metadata": {},
     "output_type": "execute_result"
    }
   ],
   "source": [
    "#MODIFYING ELEMENTS IN A DICTIONARY\n",
    "d = {\"name\":\"sharon\" , \"age\":21 , \"phone\":45678 , \"course\":\"data analytics\"}\n",
    "d"
   ]
  },
  {
   "cell_type": "code",
   "execution_count": 94,
   "id": "ae7f47c5-20bc-46da-a7b4-82c9c76f35ce",
   "metadata": {},
   "outputs": [
    {
     "data": {
      "text/plain": [
       "{'name': 'aman', 'age': 21, 'phone': 45678, 'course': 'data analytics'}"
      ]
     },
     "execution_count": 94,
     "metadata": {},
     "output_type": "execute_result"
    }
   ],
   "source": [
    "d[\"name\"] = \"aman\"\n",
    "d"
   ]
  },
  {
   "cell_type": "code",
   "execution_count": 96,
   "id": "c2044c1d-50db-4cf0-931d-7307782c9f52",
   "metadata": {},
   "outputs": [
    {
     "data": {
      "text/plain": [
       "{'name': 'aman', 'age': 22, 'phone': 45678, 'course': 'data analytics'}"
      ]
     },
     "execution_count": 96,
     "metadata": {},
     "output_type": "execute_result"
    }
   ],
   "source": [
    "d[\"age\"] = 22\n",
    "d"
   ]
  },
  {
   "cell_type": "code",
   "execution_count": 97,
   "id": "d8a82395-b865-45c6-b3e2-bb22223ba4de",
   "metadata": {},
   "outputs": [
    {
     "data": {
      "text/plain": [
       "{'name': 'sharon', 'age': 21, 'phone': 45678, 'course': 'data analytics'}"
      ]
     },
     "execution_count": 97,
     "metadata": {},
     "output_type": "execute_result"
    }
   ],
   "source": [
    "#DELETING A KEY VALUE PAIR\n",
    "d = {\"name\":\"sharon\" , \"age\":21 , \"phone\":45678 , \"course\":\"data analytics\"}\n",
    "d"
   ]
  },
  {
   "cell_type": "code",
   "execution_count": 98,
   "id": "9576b88b-e6ce-4509-8eea-e27d83d422d1",
   "metadata": {},
   "outputs": [
    {
     "data": {
      "text/plain": [
       "{'name': 'sharon', 'age': 21, 'phone': 45678}"
      ]
     },
     "execution_count": 98,
     "metadata": {},
     "output_type": "execute_result"
    }
   ],
   "source": [
    "del d[\"course\"]\n",
    "d"
   ]
  },
  {
   "cell_type": "code",
   "execution_count": 99,
   "id": "525eb39f-884a-49ac-8133-269281ed7b1d",
   "metadata": {},
   "outputs": [
    {
     "data": {
      "text/plain": [
       "{}"
      ]
     },
     "execution_count": 99,
     "metadata": {},
     "output_type": "execute_result"
    }
   ],
   "source": [
    "#CLEARING THE WHOLE DICTIONARY\n",
    "d.clear()\n",
    "d"
   ]
  },
  {
   "cell_type": "code",
   "execution_count": 101,
   "id": "931d1413-7e52-4d8a-9630-7516efacfab6",
   "metadata": {},
   "outputs": [
    {
     "ename": "NameError",
     "evalue": "name 'd' is not defined",
     "output_type": "error",
     "traceback": [
      "\u001b[0;31m---------------------------------------------------------------------------\u001b[0m",
      "\u001b[0;31mNameError\u001b[0m                                 Traceback (most recent call last)",
      "Cell \u001b[0;32mIn[101], line 2\u001b[0m\n\u001b[1;32m      1\u001b[0m \u001b[38;5;66;03m#DELETING THE WHOLE DICTINARY\u001b[39;00m\n\u001b[0;32m----> 2\u001b[0m \u001b[38;5;28;01mdel\u001b[39;00m d\n\u001b[1;32m      3\u001b[0m d\n",
      "\u001b[0;31mNameError\u001b[0m: name 'd' is not defined"
     ]
    }
   ],
   "source": [
    "#DELETING THE WHOLE DICTINARY\n",
    "del d\n",
    "d"
   ]
  },
  {
   "cell_type": "code",
   "execution_count": 102,
   "id": "15f24949-8629-4249-94b4-27f443e995c9",
   "metadata": {},
   "outputs": [
    {
     "data": {
      "text/plain": [
       "{1: 'hello'}"
      ]
     },
     "execution_count": 102,
     "metadata": {},
     "output_type": "execute_result"
    }
   ],
   "source": [
    "#8. DICTIONARY KEYS BEING IMMUTABLE\n",
    "##the keys are immutable . it means they cannot be changed\n",
    "##since integers , float values, boolean value, tuple are immutabel , they can be used as a key\n",
    "##on the other hand special characters like'#' , '@' cannot be used as a key\n",
    "##you cannot use list a set as a key inside a dictionary beacuse they are mutable objects\n",
    "##for example\n",
    "dict = {1:\"hello\"}\n",
    "dict"
   ]
  },
  {
   "cell_type": "code",
   "execution_count": 103,
   "id": "eec8c7b5-60a6-4b58-bb87-ab4e885da6fd",
   "metadata": {},
   "outputs": [
    {
     "data": {
      "text/plain": [
       "{True: 'honesty'}"
      ]
     },
     "execution_count": 103,
     "metadata": {},
     "output_type": "execute_result"
    }
   ],
   "source": [
    "dict1 = {True:\"honesty\"}\n",
    "dict1"
   ]
  },
  {
   "cell_type": "code",
   "execution_count": 104,
   "id": "ed701fdb-c009-4c6b-9153-b985c1b41837",
   "metadata": {},
   "outputs": [
    {
     "data": {
      "text/plain": [
       "{(1, 2, 3): 'aman'}"
      ]
     },
     "execution_count": 104,
     "metadata": {},
     "output_type": "execute_result"
    }
   ],
   "source": [
    "dict2 = {(1,2,3):\"aman\"}\n",
    "dict2"
   ]
  },
  {
   "cell_type": "code",
   "execution_count": 105,
   "id": "907d9eaf-6965-4fe4-93e6-4b68e406ed7a",
   "metadata": {},
   "outputs": [
    {
     "ename": "SyntaxError",
     "evalue": "incomplete input (4225497827.py, line 2)",
     "output_type": "error",
     "traceback": [
      "\u001b[0;36m  Cell \u001b[0;32mIn[105], line 2\u001b[0;36m\u001b[0m\n\u001b[0;31m    dict3\u001b[0m\n\u001b[0m         ^\u001b[0m\n\u001b[0;31mSyntaxError\u001b[0m\u001b[0;31m:\u001b[0m incomplete input\n"
     ]
    }
   ],
   "source": [
    "dict3 = {#:\"abc\"}\n",
    "dict3"
   ]
  },
  {
   "cell_type": "code",
   "execution_count": 106,
   "id": "0a5bd02d-8fff-498a-ad14-013856d68d3e",
   "metadata": {},
   "outputs": [
    {
     "ename": "SyntaxError",
     "evalue": "unterminated string literal (detected at line 1) (347954543.py, line 1)",
     "output_type": "error",
     "traceback": [
      "\u001b[0;36m  Cell \u001b[0;32mIn[106], line 1\u001b[0;36m\u001b[0m\n\u001b[0;31m    dict4 = {[1,2,3]:'abc}\u001b[0m\n\u001b[0m                     ^\u001b[0m\n\u001b[0;31mSyntaxError\u001b[0m\u001b[0;31m:\u001b[0m unterminated string literal (detected at line 1)\n"
     ]
    }
   ],
   "source": [
    "dict4 = {[1,2,3]:'abc}\n",
    "dict4"
   ]
  },
  {
   "cell_type": "code",
   "execution_count": null,
   "id": "24bb7e18-6333-4d29-b024-6aa5f12467fc",
   "metadata": {},
   "outputs": [],
   "source": []
  }
 ],
 "metadata": {
  "kernelspec": {
   "display_name": "Python 3 (ipykernel)",
   "language": "python",
   "name": "python3"
  },
  "language_info": {
   "codemirror_mode": {
    "name": "ipython",
    "version": 3
   },
   "file_extension": ".py",
   "mimetype": "text/x-python",
   "name": "python",
   "nbconvert_exporter": "python",
   "pygments_lexer": "ipython3",
   "version": "3.10.8"
  }
 },
 "nbformat": 4,
 "nbformat_minor": 5
}
